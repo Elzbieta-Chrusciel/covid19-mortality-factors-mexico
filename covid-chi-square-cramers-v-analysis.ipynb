{
 "cells": [
  {
   "cell_type": "markdown",
   "metadata": {},
   "source": [
    "### The chi-square tests Cramér’s V were conducted to examine the association between mortality and various comorbidities or demographic factors.\n",
    "#### **1. Chi-Square Test:**\n",
    "The chi2_contingency() function is used to perform the Chi-Square Test, which helps determine if there is a significant relationship between two categorical variables. The function returns four values:\n",
    "- chi2: The test statistic.\n",
    "- p: The p-value of the test, which tells you whether the result is statistically significant.\n",
    "- dof: The degrees of freedom for the test.\n",
    "- expected_freq: The expected frequency counts for each combination, assuming the null hypothesis of independence is true.\n",
    "\n",
    "**Interpretation:**\n",
    "- If the p-value is less than or equal to the significance level (alpha = 0.05), we reject the null hypothesis (H0) and accept the alternative hypothesis (H1), which suggests that the variables are dependent.\n",
    "- If the p-value is greater than 0.05, we fail to reject the null hypothesis, implying that the variables are independent.\n",
    "\n",
    "**Limitation:**\n",
    "- Chi-square test does not measure strength of this relationship. \n",
    "- Additionally, when the dataset is very large (which is the case here), even small effects can lead to a statistically significant Chi-square test (p-value ≈ 0.0000).\n",
    "\n",
    "Therefore, Cramér’s V is also conducted - it accounts for sample size and adjusts the effect size accordingly.\n"
   ]
  },
  {
   "cell_type": "markdown",
   "metadata": {},
   "source": [
    "#### **2. Cramér's V:**\n",
    "Cramér's V measures the strength of association between two categorical variables. It ranges from 0 to 1, where:\n",
    "\n",
    "- 0 means no association (the variables are independent).\n",
    "- 1 means perfect association (the variables are completely dependent).\n",
    "\n",
    "**The equation for calculating Cramér's V:**\n",
    "$$\n",
    "V = \\sqrt{\\frac{\\chi^2}{N \\cdot \\min(k_1 - 1, k_2 - 1)}}\n",
    "$$\n",
    "\n",
    "**Explanation:**\n",
    "\n",
    "- χ2 is the Chi-square statistic from the Chi-square test of independence.\n",
    "- 𝑁 is the total number of observations (the sum of all counts in the contingency table).\n",
    "- 𝑘1 and 𝑘2 are the number of categories (or levels) in the two variables being analyzed. Specifically, 𝑘1 is the number of categories (rows) for the first variable and 𝑘2 is the number of categories (columns) for the second variable.\n",
    "- The term min(𝑘1 − 1, 𝑘2 − 1) represents the degrees of freedom for the test, but adjusted by subtracting 1 from both dimensions (rows and columns) to fit the Cramér's V calculation.\n",
    "\n",
    "**Interpretation of Cramér's V:**\n",
    "\n",
    "- 0 means no association between the variables.\n",
    "- 0.1 - 0.3 indicates a weak association.\n",
    "- 0.3 - 0.5 indicates a moderate association.\n",
    "- 0.5 - 0.7 indicates a strong association.\n",
    "- above 0.7 indicates a very strong association."
   ]
  },
  {
   "cell_type": "code",
   "execution_count": 74,
   "metadata": {},
   "outputs": [],
   "source": [
    "import numpy as np\n",
    "import pandas as pd\n",
    "import matplotlib.pyplot as plt\n",
    "import seaborn as sns\n",
    "from scipy import stats\n",
    "from scipy.stats import chi2_contingency"
   ]
  },
  {
   "cell_type": "code",
   "execution_count": 75,
   "metadata": {},
   "outputs": [
    {
     "data": {
      "text/html": [
       "<div>\n",
       "<style scoped>\n",
       "    .dataframe tbody tr th:only-of-type {\n",
       "        vertical-align: middle;\n",
       "    }\n",
       "\n",
       "    .dataframe tbody tr th {\n",
       "        vertical-align: top;\n",
       "    }\n",
       "\n",
       "    .dataframe thead th {\n",
       "        text-align: right;\n",
       "    }\n",
       "</style>\n",
       "<table border=\"1\" class=\"dataframe\">\n",
       "  <thead>\n",
       "    <tr style=\"text-align: right;\">\n",
       "      <th></th>\n",
       "      <th>COVID_TEST_RESULT</th>\n",
       "      <th>HOSPITALIZED</th>\n",
       "      <th>INTUBED</th>\n",
       "      <th>ADMITTED_TO_ICU</th>\n",
       "      <th>DEAD</th>\n",
       "      <th>AGE</th>\n",
       "      <th>SEX</th>\n",
       "      <th>PREGNANT</th>\n",
       "      <th>SMOKER</th>\n",
       "      <th>PNEUMONIA</th>\n",
       "      <th>COPD</th>\n",
       "      <th>ASTHMA</th>\n",
       "      <th>IMMUNOSUPPRESSED</th>\n",
       "      <th>CARDIOVASCULAR_DISEASE</th>\n",
       "      <th>HYPERTENSION</th>\n",
       "      <th>CHRONIC_KIDNEY_DISEASE</th>\n",
       "      <th>DIABETES</th>\n",
       "      <th>OBESITY</th>\n",
       "      <th>OTHER_DISEASE</th>\n",
       "      <th>MEDICAL_UNIT</th>\n",
       "    </tr>\n",
       "  </thead>\n",
       "  <tbody>\n",
       "    <tr>\n",
       "      <th>111778</th>\n",
       "      <td>1</td>\n",
       "      <td>0</td>\n",
       "      <td>NaN</td>\n",
       "      <td>NaN</td>\n",
       "      <td>0</td>\n",
       "      <td>67</td>\n",
       "      <td>male</td>\n",
       "      <td>NaN</td>\n",
       "      <td>0.0</td>\n",
       "      <td>0.0</td>\n",
       "      <td>0.0</td>\n",
       "      <td>0.0</td>\n",
       "      <td>0.0</td>\n",
       "      <td>0.0</td>\n",
       "      <td>0.0</td>\n",
       "      <td>1.0</td>\n",
       "      <td>1.0</td>\n",
       "      <td>0.0</td>\n",
       "      <td>0.0</td>\n",
       "      <td>12</td>\n",
       "    </tr>\n",
       "    <tr>\n",
       "      <th>89969</th>\n",
       "      <td>1</td>\n",
       "      <td>0</td>\n",
       "      <td>NaN</td>\n",
       "      <td>NaN</td>\n",
       "      <td>1</td>\n",
       "      <td>39</td>\n",
       "      <td>male</td>\n",
       "      <td>NaN</td>\n",
       "      <td>0.0</td>\n",
       "      <td>1.0</td>\n",
       "      <td>0.0</td>\n",
       "      <td>0.0</td>\n",
       "      <td>0.0</td>\n",
       "      <td>0.0</td>\n",
       "      <td>0.0</td>\n",
       "      <td>0.0</td>\n",
       "      <td>0.0</td>\n",
       "      <td>1.0</td>\n",
       "      <td>0.0</td>\n",
       "      <td>12</td>\n",
       "    </tr>\n",
       "    <tr>\n",
       "      <th>4992</th>\n",
       "      <td>1</td>\n",
       "      <td>1</td>\n",
       "      <td>0.0</td>\n",
       "      <td>0.0</td>\n",
       "      <td>1</td>\n",
       "      <td>56</td>\n",
       "      <td>female</td>\n",
       "      <td>0.0</td>\n",
       "      <td>1.0</td>\n",
       "      <td>1.0</td>\n",
       "      <td>0.0</td>\n",
       "      <td>0.0</td>\n",
       "      <td>0.0</td>\n",
       "      <td>0.0</td>\n",
       "      <td>1.0</td>\n",
       "      <td>0.0</td>\n",
       "      <td>0.0</td>\n",
       "      <td>1.0</td>\n",
       "      <td>1.0</td>\n",
       "      <td>4</td>\n",
       "    </tr>\n",
       "    <tr>\n",
       "      <th>69974</th>\n",
       "      <td>1</td>\n",
       "      <td>0</td>\n",
       "      <td>NaN</td>\n",
       "      <td>NaN</td>\n",
       "      <td>1</td>\n",
       "      <td>56</td>\n",
       "      <td>male</td>\n",
       "      <td>NaN</td>\n",
       "      <td>0.0</td>\n",
       "      <td>0.0</td>\n",
       "      <td>0.0</td>\n",
       "      <td>0.0</td>\n",
       "      <td>0.0</td>\n",
       "      <td>0.0</td>\n",
       "      <td>0.0</td>\n",
       "      <td>0.0</td>\n",
       "      <td>0.0</td>\n",
       "      <td>0.0</td>\n",
       "      <td>0.0</td>\n",
       "      <td>10</td>\n",
       "    </tr>\n",
       "    <tr>\n",
       "      <th>46493</th>\n",
       "      <td>1</td>\n",
       "      <td>1</td>\n",
       "      <td>1.0</td>\n",
       "      <td>0.0</td>\n",
       "      <td>0</td>\n",
       "      <td>60</td>\n",
       "      <td>male</td>\n",
       "      <td>NaN</td>\n",
       "      <td>0.0</td>\n",
       "      <td>1.0</td>\n",
       "      <td>0.0</td>\n",
       "      <td>0.0</td>\n",
       "      <td>0.0</td>\n",
       "      <td>0.0</td>\n",
       "      <td>0.0</td>\n",
       "      <td>0.0</td>\n",
       "      <td>1.0</td>\n",
       "      <td>0.0</td>\n",
       "      <td>0.0</td>\n",
       "      <td>4</td>\n",
       "    </tr>\n",
       "    <tr>\n",
       "      <th>75932</th>\n",
       "      <td>1</td>\n",
       "      <td>1</td>\n",
       "      <td>0.0</td>\n",
       "      <td>0.0</td>\n",
       "      <td>1</td>\n",
       "      <td>82</td>\n",
       "      <td>female</td>\n",
       "      <td>0.0</td>\n",
       "      <td>0.0</td>\n",
       "      <td>0.0</td>\n",
       "      <td>0.0</td>\n",
       "      <td>0.0</td>\n",
       "      <td>0.0</td>\n",
       "      <td>0.0</td>\n",
       "      <td>0.0</td>\n",
       "      <td>0.0</td>\n",
       "      <td>0.0</td>\n",
       "      <td>0.0</td>\n",
       "      <td>0.0</td>\n",
       "      <td>12</td>\n",
       "    </tr>\n",
       "    <tr>\n",
       "      <th>92102</th>\n",
       "      <td>1</td>\n",
       "      <td>0</td>\n",
       "      <td>NaN</td>\n",
       "      <td>NaN</td>\n",
       "      <td>0</td>\n",
       "      <td>64</td>\n",
       "      <td>male</td>\n",
       "      <td>NaN</td>\n",
       "      <td>0.0</td>\n",
       "      <td>0.0</td>\n",
       "      <td>0.0</td>\n",
       "      <td>0.0</td>\n",
       "      <td>0.0</td>\n",
       "      <td>0.0</td>\n",
       "      <td>1.0</td>\n",
       "      <td>0.0</td>\n",
       "      <td>0.0</td>\n",
       "      <td>0.0</td>\n",
       "      <td>0.0</td>\n",
       "      <td>12</td>\n",
       "    </tr>\n",
       "    <tr>\n",
       "      <th>102071</th>\n",
       "      <td>1</td>\n",
       "      <td>1</td>\n",
       "      <td>0.0</td>\n",
       "      <td>1.0</td>\n",
       "      <td>0</td>\n",
       "      <td>0</td>\n",
       "      <td>female</td>\n",
       "      <td>0.0</td>\n",
       "      <td>0.0</td>\n",
       "      <td>0.0</td>\n",
       "      <td>0.0</td>\n",
       "      <td>0.0</td>\n",
       "      <td>0.0</td>\n",
       "      <td>0.0</td>\n",
       "      <td>0.0</td>\n",
       "      <td>0.0</td>\n",
       "      <td>0.0</td>\n",
       "      <td>0.0</td>\n",
       "      <td>0.0</td>\n",
       "      <td>12</td>\n",
       "    </tr>\n",
       "    <tr>\n",
       "      <th>40536</th>\n",
       "      <td>1</td>\n",
       "      <td>1</td>\n",
       "      <td>1.0</td>\n",
       "      <td>0.0</td>\n",
       "      <td>0</td>\n",
       "      <td>58</td>\n",
       "      <td>female</td>\n",
       "      <td>0.0</td>\n",
       "      <td>0.0</td>\n",
       "      <td>1.0</td>\n",
       "      <td>0.0</td>\n",
       "      <td>0.0</td>\n",
       "      <td>0.0</td>\n",
       "      <td>0.0</td>\n",
       "      <td>1.0</td>\n",
       "      <td>1.0</td>\n",
       "      <td>1.0</td>\n",
       "      <td>1.0</td>\n",
       "      <td>0.0</td>\n",
       "      <td>4</td>\n",
       "    </tr>\n",
       "    <tr>\n",
       "      <th>33677</th>\n",
       "      <td>1</td>\n",
       "      <td>0</td>\n",
       "      <td>NaN</td>\n",
       "      <td>NaN</td>\n",
       "      <td>0</td>\n",
       "      <td>55</td>\n",
       "      <td>female</td>\n",
       "      <td>0.0</td>\n",
       "      <td>0.0</td>\n",
       "      <td>0.0</td>\n",
       "      <td>0.0</td>\n",
       "      <td>0.0</td>\n",
       "      <td>0.0</td>\n",
       "      <td>0.0</td>\n",
       "      <td>1.0</td>\n",
       "      <td>0.0</td>\n",
       "      <td>0.0</td>\n",
       "      <td>0.0</td>\n",
       "      <td>0.0</td>\n",
       "      <td>4</td>\n",
       "    </tr>\n",
       "    <tr>\n",
       "      <th>66959</th>\n",
       "      <td>1</td>\n",
       "      <td>0</td>\n",
       "      <td>NaN</td>\n",
       "      <td>NaN</td>\n",
       "      <td>0</td>\n",
       "      <td>31</td>\n",
       "      <td>female</td>\n",
       "      <td>1.0</td>\n",
       "      <td>0.0</td>\n",
       "      <td>0.0</td>\n",
       "      <td>0.0</td>\n",
       "      <td>0.0</td>\n",
       "      <td>0.0</td>\n",
       "      <td>0.0</td>\n",
       "      <td>0.0</td>\n",
       "      <td>0.0</td>\n",
       "      <td>0.0</td>\n",
       "      <td>0.0</td>\n",
       "      <td>0.0</td>\n",
       "      <td>9</td>\n",
       "    </tr>\n",
       "    <tr>\n",
       "      <th>39202</th>\n",
       "      <td>1</td>\n",
       "      <td>1</td>\n",
       "      <td>0.0</td>\n",
       "      <td>0.0</td>\n",
       "      <td>0</td>\n",
       "      <td>61</td>\n",
       "      <td>male</td>\n",
       "      <td>NaN</td>\n",
       "      <td>0.0</td>\n",
       "      <td>0.0</td>\n",
       "      <td>0.0</td>\n",
       "      <td>0.0</td>\n",
       "      <td>0.0</td>\n",
       "      <td>0.0</td>\n",
       "      <td>1.0</td>\n",
       "      <td>0.0</td>\n",
       "      <td>0.0</td>\n",
       "      <td>1.0</td>\n",
       "      <td>0.0</td>\n",
       "      <td>4</td>\n",
       "    </tr>\n",
       "    <tr>\n",
       "      <th>9664</th>\n",
       "      <td>1</td>\n",
       "      <td>1</td>\n",
       "      <td>1.0</td>\n",
       "      <td>0.0</td>\n",
       "      <td>1</td>\n",
       "      <td>65</td>\n",
       "      <td>female</td>\n",
       "      <td>0.0</td>\n",
       "      <td>0.0</td>\n",
       "      <td>1.0</td>\n",
       "      <td>0.0</td>\n",
       "      <td>0.0</td>\n",
       "      <td>0.0</td>\n",
       "      <td>0.0</td>\n",
       "      <td>1.0</td>\n",
       "      <td>0.0</td>\n",
       "      <td>0.0</td>\n",
       "      <td>0.0</td>\n",
       "      <td>0.0</td>\n",
       "      <td>4</td>\n",
       "    </tr>\n",
       "    <tr>\n",
       "      <th>45275</th>\n",
       "      <td>1</td>\n",
       "      <td>1</td>\n",
       "      <td>0.0</td>\n",
       "      <td>0.0</td>\n",
       "      <td>0</td>\n",
       "      <td>78</td>\n",
       "      <td>female</td>\n",
       "      <td>0.0</td>\n",
       "      <td>0.0</td>\n",
       "      <td>1.0</td>\n",
       "      <td>0.0</td>\n",
       "      <td>0.0</td>\n",
       "      <td>0.0</td>\n",
       "      <td>0.0</td>\n",
       "      <td>0.0</td>\n",
       "      <td>0.0</td>\n",
       "      <td>1.0</td>\n",
       "      <td>0.0</td>\n",
       "      <td>0.0</td>\n",
       "      <td>4</td>\n",
       "    </tr>\n",
       "    <tr>\n",
       "      <th>75246</th>\n",
       "      <td>1</td>\n",
       "      <td>1</td>\n",
       "      <td>1.0</td>\n",
       "      <td>0.0</td>\n",
       "      <td>1</td>\n",
       "      <td>55</td>\n",
       "      <td>female</td>\n",
       "      <td>0.0</td>\n",
       "      <td>0.0</td>\n",
       "      <td>0.0</td>\n",
       "      <td>1.0</td>\n",
       "      <td>0.0</td>\n",
       "      <td>0.0</td>\n",
       "      <td>1.0</td>\n",
       "      <td>0.0</td>\n",
       "      <td>0.0</td>\n",
       "      <td>1.0</td>\n",
       "      <td>0.0</td>\n",
       "      <td>0.0</td>\n",
       "      <td>12</td>\n",
       "    </tr>\n",
       "    <tr>\n",
       "      <th>72705</th>\n",
       "      <td>1</td>\n",
       "      <td>0</td>\n",
       "      <td>NaN</td>\n",
       "      <td>NaN</td>\n",
       "      <td>0</td>\n",
       "      <td>31</td>\n",
       "      <td>male</td>\n",
       "      <td>NaN</td>\n",
       "      <td>1.0</td>\n",
       "      <td>0.0</td>\n",
       "      <td>0.0</td>\n",
       "      <td>0.0</td>\n",
       "      <td>0.0</td>\n",
       "      <td>0.0</td>\n",
       "      <td>0.0</td>\n",
       "      <td>0.0</td>\n",
       "      <td>0.0</td>\n",
       "      <td>0.0</td>\n",
       "      <td>0.0</td>\n",
       "      <td>11</td>\n",
       "    </tr>\n",
       "    <tr>\n",
       "      <th>112174</th>\n",
       "      <td>1</td>\n",
       "      <td>0</td>\n",
       "      <td>NaN</td>\n",
       "      <td>NaN</td>\n",
       "      <td>0</td>\n",
       "      <td>37</td>\n",
       "      <td>female</td>\n",
       "      <td>0.0</td>\n",
       "      <td>0.0</td>\n",
       "      <td>0.0</td>\n",
       "      <td>0.0</td>\n",
       "      <td>0.0</td>\n",
       "      <td>0.0</td>\n",
       "      <td>1.0</td>\n",
       "      <td>1.0</td>\n",
       "      <td>1.0</td>\n",
       "      <td>0.0</td>\n",
       "      <td>1.0</td>\n",
       "      <td>0.0</td>\n",
       "      <td>12</td>\n",
       "    </tr>\n",
       "    <tr>\n",
       "      <th>14839</th>\n",
       "      <td>1</td>\n",
       "      <td>0</td>\n",
       "      <td>NaN</td>\n",
       "      <td>NaN</td>\n",
       "      <td>1</td>\n",
       "      <td>66</td>\n",
       "      <td>female</td>\n",
       "      <td>0.0</td>\n",
       "      <td>0.0</td>\n",
       "      <td>1.0</td>\n",
       "      <td>0.0</td>\n",
       "      <td>0.0</td>\n",
       "      <td>0.0</td>\n",
       "      <td>0.0</td>\n",
       "      <td>0.0</td>\n",
       "      <td>0.0</td>\n",
       "      <td>0.0</td>\n",
       "      <td>1.0</td>\n",
       "      <td>0.0</td>\n",
       "      <td>4</td>\n",
       "    </tr>\n",
       "    <tr>\n",
       "      <th>38211</th>\n",
       "      <td>1</td>\n",
       "      <td>0</td>\n",
       "      <td>NaN</td>\n",
       "      <td>NaN</td>\n",
       "      <td>0</td>\n",
       "      <td>30</td>\n",
       "      <td>male</td>\n",
       "      <td>NaN</td>\n",
       "      <td>0.0</td>\n",
       "      <td>0.0</td>\n",
       "      <td>0.0</td>\n",
       "      <td>0.0</td>\n",
       "      <td>0.0</td>\n",
       "      <td>0.0</td>\n",
       "      <td>1.0</td>\n",
       "      <td>0.0</td>\n",
       "      <td>0.0</td>\n",
       "      <td>0.0</td>\n",
       "      <td>0.0</td>\n",
       "      <td>4</td>\n",
       "    </tr>\n",
       "    <tr>\n",
       "      <th>112221</th>\n",
       "      <td>1</td>\n",
       "      <td>0</td>\n",
       "      <td>NaN</td>\n",
       "      <td>NaN</td>\n",
       "      <td>0</td>\n",
       "      <td>24</td>\n",
       "      <td>female</td>\n",
       "      <td>0.0</td>\n",
       "      <td>0.0</td>\n",
       "      <td>1.0</td>\n",
       "      <td>0.0</td>\n",
       "      <td>1.0</td>\n",
       "      <td>0.0</td>\n",
       "      <td>0.0</td>\n",
       "      <td>0.0</td>\n",
       "      <td>0.0</td>\n",
       "      <td>0.0</td>\n",
       "      <td>0.0</td>\n",
       "      <td>0.0</td>\n",
       "      <td>12</td>\n",
       "    </tr>\n",
       "  </tbody>\n",
       "</table>\n",
       "</div>"
      ],
      "text/plain": [
       "        COVID_TEST_RESULT  HOSPITALIZED  INTUBED  ADMITTED_TO_ICU  DEAD  AGE  \\\n",
       "111778                  1             0      NaN              NaN     0   67   \n",
       "89969                   1             0      NaN              NaN     1   39   \n",
       "4992                    1             1      0.0              0.0     1   56   \n",
       "69974                   1             0      NaN              NaN     1   56   \n",
       "46493                   1             1      1.0              0.0     0   60   \n",
       "75932                   1             1      0.0              0.0     1   82   \n",
       "92102                   1             0      NaN              NaN     0   64   \n",
       "102071                  1             1      0.0              1.0     0    0   \n",
       "40536                   1             1      1.0              0.0     0   58   \n",
       "33677                   1             0      NaN              NaN     0   55   \n",
       "66959                   1             0      NaN              NaN     0   31   \n",
       "39202                   1             1      0.0              0.0     0   61   \n",
       "9664                    1             1      1.0              0.0     1   65   \n",
       "45275                   1             1      0.0              0.0     0   78   \n",
       "75246                   1             1      1.0              0.0     1   55   \n",
       "72705                   1             0      NaN              NaN     0   31   \n",
       "112174                  1             0      NaN              NaN     0   37   \n",
       "14839                   1             0      NaN              NaN     1   66   \n",
       "38211                   1             0      NaN              NaN     0   30   \n",
       "112221                  1             0      NaN              NaN     0   24   \n",
       "\n",
       "           SEX  PREGNANT  SMOKER  PNEUMONIA  COPD  ASTHMA  IMMUNOSUPPRESSED  \\\n",
       "111778    male       NaN     0.0        0.0   0.0     0.0               0.0   \n",
       "89969     male       NaN     0.0        1.0   0.0     0.0               0.0   \n",
       "4992    female       0.0     1.0        1.0   0.0     0.0               0.0   \n",
       "69974     male       NaN     0.0        0.0   0.0     0.0               0.0   \n",
       "46493     male       NaN     0.0        1.0   0.0     0.0               0.0   \n",
       "75932   female       0.0     0.0        0.0   0.0     0.0               0.0   \n",
       "92102     male       NaN     0.0        0.0   0.0     0.0               0.0   \n",
       "102071  female       0.0     0.0        0.0   0.0     0.0               0.0   \n",
       "40536   female       0.0     0.0        1.0   0.0     0.0               0.0   \n",
       "33677   female       0.0     0.0        0.0   0.0     0.0               0.0   \n",
       "66959   female       1.0     0.0        0.0   0.0     0.0               0.0   \n",
       "39202     male       NaN     0.0        0.0   0.0     0.0               0.0   \n",
       "9664    female       0.0     0.0        1.0   0.0     0.0               0.0   \n",
       "45275   female       0.0     0.0        1.0   0.0     0.0               0.0   \n",
       "75246   female       0.0     0.0        0.0   1.0     0.0               0.0   \n",
       "72705     male       NaN     1.0        0.0   0.0     0.0               0.0   \n",
       "112174  female       0.0     0.0        0.0   0.0     0.0               0.0   \n",
       "14839   female       0.0     0.0        1.0   0.0     0.0               0.0   \n",
       "38211     male       NaN     0.0        0.0   0.0     0.0               0.0   \n",
       "112221  female       0.0     0.0        1.0   0.0     1.0               0.0   \n",
       "\n",
       "        CARDIOVASCULAR_DISEASE  HYPERTENSION  CHRONIC_KIDNEY_DISEASE  \\\n",
       "111778                     0.0           0.0                     1.0   \n",
       "89969                      0.0           0.0                     0.0   \n",
       "4992                       0.0           1.0                     0.0   \n",
       "69974                      0.0           0.0                     0.0   \n",
       "46493                      0.0           0.0                     0.0   \n",
       "75932                      0.0           0.0                     0.0   \n",
       "92102                      0.0           1.0                     0.0   \n",
       "102071                     0.0           0.0                     0.0   \n",
       "40536                      0.0           1.0                     1.0   \n",
       "33677                      0.0           1.0                     0.0   \n",
       "66959                      0.0           0.0                     0.0   \n",
       "39202                      0.0           1.0                     0.0   \n",
       "9664                       0.0           1.0                     0.0   \n",
       "45275                      0.0           0.0                     0.0   \n",
       "75246                      1.0           0.0                     0.0   \n",
       "72705                      0.0           0.0                     0.0   \n",
       "112174                     1.0           1.0                     1.0   \n",
       "14839                      0.0           0.0                     0.0   \n",
       "38211                      0.0           1.0                     0.0   \n",
       "112221                     0.0           0.0                     0.0   \n",
       "\n",
       "        DIABETES  OBESITY  OTHER_DISEASE  MEDICAL_UNIT  \n",
       "111778       1.0      0.0            0.0            12  \n",
       "89969        0.0      1.0            0.0            12  \n",
       "4992         0.0      1.0            1.0             4  \n",
       "69974        0.0      0.0            0.0            10  \n",
       "46493        1.0      0.0            0.0             4  \n",
       "75932        0.0      0.0            0.0            12  \n",
       "92102        0.0      0.0            0.0            12  \n",
       "102071       0.0      0.0            0.0            12  \n",
       "40536        1.0      1.0            0.0             4  \n",
       "33677        0.0      0.0            0.0             4  \n",
       "66959        0.0      0.0            0.0             9  \n",
       "39202        0.0      1.0            0.0             4  \n",
       "9664         0.0      0.0            0.0             4  \n",
       "45275        1.0      0.0            0.0             4  \n",
       "75246        1.0      0.0            0.0            12  \n",
       "72705        0.0      0.0            0.0            11  \n",
       "112174       0.0      1.0            0.0            12  \n",
       "14839        0.0      1.0            0.0             4  \n",
       "38211        0.0      0.0            0.0             4  \n",
       "112221       0.0      0.0            0.0            12  "
      ]
     },
     "execution_count": 75,
     "metadata": {},
     "output_type": "execute_result"
    }
   ],
   "source": [
    "covid = pd.read_csv(\"covid_positive\")\n",
    "df = pd.DataFrame(covid)\n",
    "covid.sample(20)"
   ]
  },
  {
   "cell_type": "code",
   "execution_count": 76,
   "metadata": {},
   "outputs": [
    {
     "name": "stdout",
     "output_type": "stream",
     "text": [
      "<class 'pandas.core.frame.DataFrame'>\n",
      "RangeIndex: 113288 entries, 0 to 113287\n",
      "Data columns (total 20 columns):\n",
      " #   Column                  Non-Null Count   Dtype  \n",
      "---  ------                  --------------   -----  \n",
      " 0   COVID_TEST_RESULT       113288 non-null  int64  \n",
      " 1   HOSPITALIZED            113288 non-null  int64  \n",
      " 2   INTUBED                 75002 non-null   float64\n",
      " 3   ADMITTED_TO_ICU         74994 non-null   float64\n",
      " 4   DEAD                    113288 non-null  int64  \n",
      " 5   AGE                     113288 non-null  int64  \n",
      " 6   SEX                     113288 non-null  object \n",
      " 7   PREGNANT                46901 non-null   float64\n",
      " 8   SMOKER                  112098 non-null  float64\n",
      " 9   PNEUMONIA               113284 non-null  float64\n",
      " 10  COPD                    112218 non-null  float64\n",
      " 11  ASTHMA                  112222 non-null  float64\n",
      " 12  IMMUNOSUPPRESSED        112083 non-null  float64\n",
      " 13  CARDIOVASCULAR_DISEASE  112140 non-null  float64\n",
      " 14  HYPERTENSION            112146 non-null  float64\n",
      " 15  CHRONIC_KIDNEY_DISEASE  112181 non-null  float64\n",
      " 16  DIABETES                112098 non-null  float64\n",
      " 17  OBESITY                 112180 non-null  float64\n",
      " 18  OTHER_DISEASE           111481 non-null  float64\n",
      " 19  MEDICAL_UNIT            113288 non-null  int64  \n",
      "dtypes: float64(14), int64(5), object(1)\n",
      "memory usage: 17.3+ MB\n"
     ]
    }
   ],
   "source": [
    "covid.info()"
   ]
  },
  {
   "cell_type": "code",
   "execution_count": 77,
   "metadata": {},
   "outputs": [
    {
     "data": {
      "text/html": [
       "<div>\n",
       "<style scoped>\n",
       "    .dataframe tbody tr th:only-of-type {\n",
       "        vertical-align: middle;\n",
       "    }\n",
       "\n",
       "    .dataframe tbody tr th {\n",
       "        vertical-align: top;\n",
       "    }\n",
       "\n",
       "    .dataframe thead th {\n",
       "        text-align: right;\n",
       "    }\n",
       "</style>\n",
       "<table border=\"1\" class=\"dataframe\">\n",
       "  <thead>\n",
       "    <tr style=\"text-align: right;\">\n",
       "      <th></th>\n",
       "      <th>Comorbidity</th>\n",
       "      <th>Count</th>\n",
       "      <th>Percentage</th>\n",
       "    </tr>\n",
       "  </thead>\n",
       "  <tbody>\n",
       "    <tr>\n",
       "      <th>0</th>\n",
       "      <td>COPD</td>\n",
       "      <td>5825.0</td>\n",
       "      <td>5.1</td>\n",
       "    </tr>\n",
       "    <tr>\n",
       "      <th>1</th>\n",
       "      <td>ASTHMA</td>\n",
       "      <td>6060.0</td>\n",
       "      <td>5.3</td>\n",
       "    </tr>\n",
       "    <tr>\n",
       "      <th>2</th>\n",
       "      <td>IMMUNOSUPPRESSED</td>\n",
       "      <td>4351.0</td>\n",
       "      <td>3.8</td>\n",
       "    </tr>\n",
       "    <tr>\n",
       "      <th>3</th>\n",
       "      <td>CARDIOVASCULAR_DISEASE</td>\n",
       "      <td>7593.0</td>\n",
       "      <td>6.7</td>\n",
       "    </tr>\n",
       "    <tr>\n",
       "      <th>4</th>\n",
       "      <td>HYPERTENSION</td>\n",
       "      <td>44866.0</td>\n",
       "      <td>39.6</td>\n",
       "    </tr>\n",
       "    <tr>\n",
       "      <th>5</th>\n",
       "      <td>CHRONIC_KIDNEY_DISEASE</td>\n",
       "      <td>7361.0</td>\n",
       "      <td>6.5</td>\n",
       "    </tr>\n",
       "    <tr>\n",
       "      <th>6</th>\n",
       "      <td>DIABETES</td>\n",
       "      <td>38582.0</td>\n",
       "      <td>34.1</td>\n",
       "    </tr>\n",
       "    <tr>\n",
       "      <th>7</th>\n",
       "      <td>OBESITY</td>\n",
       "      <td>32271.0</td>\n",
       "      <td>28.5</td>\n",
       "    </tr>\n",
       "    <tr>\n",
       "      <th>8</th>\n",
       "      <td>OTHER_DISEASE</td>\n",
       "      <td>7424.0</td>\n",
       "      <td>6.6</td>\n",
       "    </tr>\n",
       "  </tbody>\n",
       "</table>\n",
       "</div>"
      ],
      "text/plain": [
       "              Comorbidity    Count  Percentage\n",
       "0                    COPD   5825.0         5.1\n",
       "1                  ASTHMA   6060.0         5.3\n",
       "2        IMMUNOSUPPRESSED   4351.0         3.8\n",
       "3  CARDIOVASCULAR_DISEASE   7593.0         6.7\n",
       "4            HYPERTENSION  44866.0        39.6\n",
       "5  CHRONIC_KIDNEY_DISEASE   7361.0         6.5\n",
       "6                DIABETES  38582.0        34.1\n",
       "7                 OBESITY  32271.0        28.5\n",
       "8           OTHER_DISEASE   7424.0         6.6"
      ]
     },
     "execution_count": 77,
     "metadata": {},
     "output_type": "execute_result"
    }
   ],
   "source": [
    "# List of comorbidity columns\n",
    "comorbidities = ['COPD', 'ASTHMA', 'IMMUNOSUPPRESSED', 'CARDIOVASCULAR_DISEASE', \n",
    "                 'HYPERTENSION', 'CHRONIC_KIDNEY_DISEASE', 'DIABETES', 'OBESITY', 'OTHER_DISEASE']\n",
    "\n",
    "# Total number of patients\n",
    "total_patients = len(covid)\n",
    "\n",
    "# Count patients with each comorbidity and calculate percentage\n",
    "comorbidity_counts = covid[comorbidities].sum()  # Count occurrences of '1' for each condition\n",
    "comorbidity_percentages = (comorbidity_counts / total_patients * 100).round(1)  # Convert to percentage\n",
    "\n",
    "# Create a DataFrame to display results\n",
    "comorbidity_summary = pd.DataFrame({\n",
    "    'Comorbidity': comorbidities,\n",
    "    'Count': comorbidity_counts.values,\n",
    "    'Percentage': comorbidity_percentages.values\n",
    "})\n",
    "\n",
    "# Display the DataFrame\n",
    "comorbidity_summary"
   ]
  },
  {
   "cell_type": "code",
   "execution_count": 78,
   "metadata": {},
   "outputs": [],
   "source": [
    "def perform_chi_square_test(data, col1, col2):\n",
    "    # Create a contingency table (cross-tabulation of two categorical variables)\n",
    "    contingency_table = pd.crosstab(data[col1], data[col2])\n",
    "\n",
    "    # Perform the Chi-Square Test\n",
    "    chi2, p, dof, expected_freq = chi2_contingency(contingency_table)\n",
    "    \n",
    "    # Interpretation of the result:\n",
    "    alpha = 0.05  # Significance level (commonly used is 0.05)\n",
    "    if p <= alpha:\n",
    "        print('H1: The variables being analyzed are dependent (there is a significant relationship).')\n",
    "    else:\n",
    "        print('H0: The variables being analyzed are independent (there is no significant relationship).')\n",
    "    \n",
    "    # Display the test results\n",
    "    print(f\"p-value = {p:.4f}\\nChi2 = {chi2:.2f}\")\n",
    "    \n",
    "    # Create a DataFrame for the expected frequencies\n",
    "    expected_freq_table = pd.DataFrame(expected_freq, columns=contingency_table.columns, index=contingency_table.index)\n",
    "    \n",
    "    # Print the contingency table for reference\n",
    "    print(contingency_table)\n",
    "    \n",
    "    # Return the difference between observed and expected frequencies (optional for further analysis)\n",
    "    return expected_freq_table"
   ]
  },
  {
   "cell_type": "code",
   "execution_count": 79,
   "metadata": {},
   "outputs": [],
   "source": [
    "# Calculate Cramér's V coefficient (first calculate Chi2, sample size, and the minimum of rows and columns)\n",
    "def calculate_Cramers_V(data, col1, col2):\n",
    "    # Create a contingency table (cross-tabulation of two categorical variables)\n",
    "    contingency_table = pd.crosstab(data[col1], data[col2])\n",
    "\n",
    "    # Calculate degrees of freedom (dof) from the Chi-Square Test (no correction applied)\n",
    "    dof = chi2_contingency(contingency_table, correction=False)[2]\n",
    "    \n",
    "    # Perform the Chi-Square Test and extract the Chi2 statistic\n",
    "    chi2 = chi2_contingency(contingency_table, correction=False)[0] \n",
    "    \n",
    "    # Calculate the total sample size (N) by summing all the frequencies in the contingency table\n",
    "    N = np.sum(contingency_table.values)  # Ensure it's a scalar\n",
    "    \n",
    "    # Find the minimum of the number of rows and columns in the contingency table, subtract 1 for degrees of freedom adjustment\n",
    "    minimum_dimension = min(contingency_table.shape) - 1\n",
    "  \n",
    "    # Calculate Cramér's V using the formula: sqrt(Chi2 / (N * min(r, c)))\n",
    "    V = np.sqrt((chi2 / N) / minimum_dimension) \n",
    "    \n",
    "    # Interpretation based on Cramér's V value\n",
    "    if V < 0.1:\n",
    "        strength = 'Very weak or no association'\n",
    "    elif V < 0.3:\n",
    "        strength = 'Weak association'\n",
    "    elif V < 0.5:\n",
    "        strength = 'Moderate association'\n",
    "    elif V < 0.7:\n",
    "        strength = 'Strong association'\n",
    "    else:\n",
    "        strength = 'Very strong association'\n",
    "\n",
    "    # Return the Cramér's V value and the strength of the relationship\n",
    "    return V, strength"
   ]
  },
  {
   "cell_type": "code",
   "execution_count": 80,
   "metadata": {},
   "outputs": [
    {
     "name": "stdout",
     "output_type": "stream",
     "text": [
      "H1: The variables being analyzed are dependent (there is a significant relationship).\n",
      "p-value = 0.0000\n",
      "Chi2 = 1888.72\n",
      "SEX   female   male\n",
      "DEAD               \n",
      "0      28772  31168\n",
      "1      18796  34552\n"
     ]
    },
    {
     "data": {
      "text/html": [
       "<div>\n",
       "<style scoped>\n",
       "    .dataframe tbody tr th:only-of-type {\n",
       "        vertical-align: middle;\n",
       "    }\n",
       "\n",
       "    .dataframe tbody tr th {\n",
       "        vertical-align: top;\n",
       "    }\n",
       "\n",
       "    .dataframe thead th {\n",
       "        text-align: right;\n",
       "    }\n",
       "</style>\n",
       "<table border=\"1\" class=\"dataframe\">\n",
       "  <thead>\n",
       "    <tr style=\"text-align: right;\">\n",
       "      <th>SEX</th>\n",
       "      <th>female</th>\n",
       "      <th>male</th>\n",
       "    </tr>\n",
       "    <tr>\n",
       "      <th>DEAD</th>\n",
       "      <th></th>\n",
       "      <th></th>\n",
       "    </tr>\n",
       "  </thead>\n",
       "  <tbody>\n",
       "    <tr>\n",
       "      <th>0</th>\n",
       "      <td>25167.942942</td>\n",
       "      <td>34772.057058</td>\n",
       "    </tr>\n",
       "    <tr>\n",
       "      <th>1</th>\n",
       "      <td>22400.057058</td>\n",
       "      <td>30947.942942</td>\n",
       "    </tr>\n",
       "  </tbody>\n",
       "</table>\n",
       "</div>"
      ],
      "text/plain": [
       "SEX         female          male\n",
       "DEAD                            \n",
       "0     25167.942942  34772.057058\n",
       "1     22400.057058  30947.942942"
      ]
     },
     "execution_count": 80,
     "metadata": {},
     "output_type": "execute_result"
    }
   ],
   "source": [
    "perform_chi_square_test(covid, 'DEAD', 'SEX')"
   ]
  },
  {
   "cell_type": "code",
   "execution_count": 81,
   "metadata": {},
   "outputs": [
    {
     "name": "stdout",
     "output_type": "stream",
     "text": [
      "Cramér's V: 0.129, Strength of Association: Weak association\n"
     ]
    }
   ],
   "source": [
    "V, strength = calculate_Cramers_V(covid, 'DEAD', 'SEX')\n",
    "print(f\"Cramér's V: {V:.3f}, Strength of Association: {strength}\")"
   ]
  },
  {
   "cell_type": "code",
   "execution_count": 82,
   "metadata": {},
   "outputs": [
    {
     "data": {
      "text/plain": [
       "<Axes: xlabel='Percentage', ylabel='SEX'>"
      ]
     },
     "execution_count": 82,
     "metadata": {},
     "output_type": "execute_result"
    },
    {
     "data": {
      "image/png": "[encoded data removed]",
      "text/plain": [
       "<Figure size 640x480 with 1 Axes>"
      ]
     },
     "metadata": {},
     "output_type": "display_data"
    }
   ],
   "source": [
    "percentage_data = covid.groupby(\"SEX\")['DEAD'].value_counts(normalize=True).mul(100).round(2)\n",
    "percentage_data = percentage_data.reset_index(name='Percentage')\n",
    "sns.barplot(data=percentage_data, y=\"SEX\", x=\"Percentage\", hue=\"DEAD\", orient='h')"
   ]
  },
  {
   "cell_type": "code",
   "execution_count": 83,
   "metadata": {},
   "outputs": [
    {
     "name": "stdout",
     "output_type": "stream",
     "text": [
      "H1: The variables being analyzed are dependent (there is a significant relationship).\n",
      "p-value = 0.0000\n",
      "Chi2 = 32.96\n",
      "COPD    0.0   1.0\n",
      "DEAD             \n",
      "0     55979  3290\n",
      "1     50414  2535\n"
     ]
    },
    {
     "data": {
      "text/html": [
       "<div>\n",
       "<style scoped>\n",
       "    .dataframe tbody tr th:only-of-type {\n",
       "        vertical-align: middle;\n",
       "    }\n",
       "\n",
       "    .dataframe tbody tr th {\n",
       "        vertical-align: top;\n",
       "    }\n",
       "\n",
       "    .dataframe thead th {\n",
       "        text-align: right;\n",
       "    }\n",
       "</style>\n",
       "<table border=\"1\" class=\"dataframe\">\n",
       "  <thead>\n",
       "    <tr style=\"text-align: right;\">\n",
       "      <th>COPD</th>\n",
       "      <th>0.0</th>\n",
       "      <th>1.0</th>\n",
       "    </tr>\n",
       "    <tr>\n",
       "      <th>DEAD</th>\n",
       "      <th></th>\n",
       "      <th></th>\n",
       "    </tr>\n",
       "  </thead>\n",
       "  <tbody>\n",
       "    <tr>\n",
       "      <th>0</th>\n",
       "      <td>56192.471056</td>\n",
       "      <td>3076.528944</td>\n",
       "    </tr>\n",
       "    <tr>\n",
       "      <th>1</th>\n",
       "      <td>50200.528944</td>\n",
       "      <td>2748.471056</td>\n",
       "    </tr>\n",
       "  </tbody>\n",
       "</table>\n",
       "</div>"
      ],
      "text/plain": [
       "COPD           0.0          1.0\n",
       "DEAD                           \n",
       "0     56192.471056  3076.528944\n",
       "1     50200.528944  2748.471056"
      ]
     },
     "execution_count": 83,
     "metadata": {},
     "output_type": "execute_result"
    }
   ],
   "source": [
    "perform_chi_square_test(covid, 'DEAD', 'COPD')"
   ]
  },
  {
   "cell_type": "code",
   "execution_count": 84,
   "metadata": {},
   "outputs": [
    {
     "name": "stdout",
     "output_type": "stream",
     "text": [
      "Cramér's V: 0.017, Strength of Association: Very weak or no association\n"
     ]
    }
   ],
   "source": [
    "V, strength = calculate_Cramers_V(covid, 'DEAD', 'COPD')\n",
    "print(f\"Cramér's V: {V:.3f}, Strength of Association: {strength}\")"
   ]
  },
  {
   "cell_type": "code",
   "execution_count": 85,
   "metadata": {},
   "outputs": [
    {
     "data": {
      "text/plain": [
       "<Axes: xlabel='Percentage', ylabel='COPD'>"
      ]
     },
     "execution_count": 85,
     "metadata": {},
     "output_type": "execute_result"
    },
    {
     "data": {
      "image/png": "[encoded data removed]",
      "text/plain": [
       "<Figure size 640x480 with 1 Axes>"
      ]
     },
     "metadata": {},
     "output_type": "display_data"
    }
   ],
   "source": [
    "percentage_data = covid.groupby(\"COPD\")['DEAD'].value_counts(normalize=True).mul(100).round(2)\n",
    "percentage_data = percentage_data.reset_index(name='Percentage')\n",
    "sns.barplot(data=percentage_data, y=\"COPD\", x=\"Percentage\", hue=\"DEAD\", orient='h')"
   ]
  },
  {
   "cell_type": "code",
   "execution_count": 86,
   "metadata": {},
   "outputs": [
    {
     "name": "stdout",
     "output_type": "stream",
     "text": [
      "H0: The variables being analyzed are independent (there is no significant relationship).\n",
      "p-value = 0.0676\n",
      "Chi2 = 3.34\n",
      "CHRONIC_KIDNEY_DISEASE    0.0   1.0\n",
      "DEAD                               \n",
      "0                       55429  3811\n",
      "1                       49391  3550\n"
     ]
    },
    {
     "data": {
      "text/html": [
       "<div>\n",
       "<style scoped>\n",
       "    .dataframe tbody tr th:only-of-type {\n",
       "        vertical-align: middle;\n",
       "    }\n",
       "\n",
       "    .dataframe tbody tr th {\n",
       "        vertical-align: top;\n",
       "    }\n",
       "\n",
       "    .dataframe thead th {\n",
       "        text-align: right;\n",
       "    }\n",
       "</style>\n",
       "<table border=\"1\" class=\"dataframe\">\n",
       "  <thead>\n",
       "    <tr style=\"text-align: right;\">\n",
       "      <th>CHRONIC_KIDNEY_DISEASE</th>\n",
       "      <th>0.0</th>\n",
       "      <th>1.0</th>\n",
       "    </tr>\n",
       "    <tr>\n",
       "      <th>DEAD</th>\n",
       "      <th></th>\n",
       "      <th></th>\n",
       "    </tr>\n",
       "  </thead>\n",
       "  <tbody>\n",
       "    <tr>\n",
       "      <th>0</th>\n",
       "      <td>55352.838716</td>\n",
       "      <td>3887.161284</td>\n",
       "    </tr>\n",
       "    <tr>\n",
       "      <th>1</th>\n",
       "      <td>49467.161284</td>\n",
       "      <td>3473.838716</td>\n",
       "    </tr>\n",
       "  </tbody>\n",
       "</table>\n",
       "</div>"
      ],
      "text/plain": [
       "CHRONIC_KIDNEY_DISEASE           0.0          1.0\n",
       "DEAD                                             \n",
       "0                       55352.838716  3887.161284\n",
       "1                       49467.161284  3473.838716"
      ]
     },
     "execution_count": 86,
     "metadata": {},
     "output_type": "execute_result"
    }
   ],
   "source": [
    "perform_chi_square_test(covid, 'DEAD', 'CHRONIC_KIDNEY_DISEASE')"
   ]
  },
  {
   "cell_type": "code",
   "execution_count": 87,
   "metadata": {},
   "outputs": [
    {
     "name": "stdout",
     "output_type": "stream",
     "text": [
      "Cramér's V: 0.005, Strength of Association: Very weak or no association\n"
     ]
    }
   ],
   "source": [
    "V, strength = calculate_Cramers_V(covid, 'DEAD', 'CHRONIC_KIDNEY_DISEASE')\n",
    "print(f\"Cramér's V: {V:.3f}, Strength of Association: {strength}\")"
   ]
  },
  {
   "cell_type": "code",
   "execution_count": 88,
   "metadata": {},
   "outputs": [
    {
     "data": {
      "text/plain": [
       "<Axes: xlabel='Percentage', ylabel='CHRONIC_KIDNEY_DISEASE'>"
      ]
     },
     "execution_count": 88,
     "metadata": {},
     "output_type": "execute_result"
    },
    {
     "data": {
      "image/png": "[encoded data removed]",
      "text/plain": [
       "<Figure size 640x480 with 1 Axes>"
      ]
     },
     "metadata": {},
     "output_type": "display_data"
    }
   ],
   "source": [
    "percentage_data = covid.groupby(\"CHRONIC_KIDNEY_DISEASE\")['DEAD'].value_counts(normalize=True).mul(100).round(2)\n",
    "percentage_data = percentage_data.reset_index(name='Percentage')\n",
    "sns.barplot(data=percentage_data, y=\"CHRONIC_KIDNEY_DISEASE\", x=\"Percentage\", hue=\"DEAD\", orient='h')"
   ]
  },
  {
   "cell_type": "code",
   "execution_count": 89,
   "metadata": {},
   "outputs": [
    {
     "name": "stdout",
     "output_type": "stream",
     "text": [
      "H1: The variables being analyzed are dependent (there is a significant relationship).\n",
      "p-value = 0.0000\n",
      "Chi2 = 469.42\n",
      "HYPERTENSION    0.0    1.0\n",
      "DEAD                      \n",
      "0             37297  21913\n",
      "1             29983  22953\n"
     ]
    },
    {
     "data": {
      "text/html": [
       "<div>\n",
       "<style scoped>\n",
       "    .dataframe tbody tr th:only-of-type {\n",
       "        vertical-align: middle;\n",
       "    }\n",
       "\n",
       "    .dataframe tbody tr th {\n",
       "        vertical-align: top;\n",
       "    }\n",
       "\n",
       "    .dataframe thead th {\n",
       "        text-align: right;\n",
       "    }\n",
       "</style>\n",
       "<table border=\"1\" class=\"dataframe\">\n",
       "  <thead>\n",
       "    <tr style=\"text-align: right;\">\n",
       "      <th>HYPERTENSION</th>\n",
       "      <th>0.0</th>\n",
       "      <th>1.0</th>\n",
       "    </tr>\n",
       "    <tr>\n",
       "      <th>DEAD</th>\n",
       "      <th></th>\n",
       "      <th></th>\n",
       "    </tr>\n",
       "  </thead>\n",
       "  <tbody>\n",
       "    <tr>\n",
       "      <th>0</th>\n",
       "      <td>35521.987409</td>\n",
       "      <td>23688.012591</td>\n",
       "    </tr>\n",
       "    <tr>\n",
       "      <th>1</th>\n",
       "      <td>31758.012591</td>\n",
       "      <td>21177.987409</td>\n",
       "    </tr>\n",
       "  </tbody>\n",
       "</table>\n",
       "</div>"
      ],
      "text/plain": [
       "HYPERTENSION           0.0           1.0\n",
       "DEAD                                    \n",
       "0             35521.987409  23688.012591\n",
       "1             31758.012591  21177.987409"
      ]
     },
     "execution_count": 89,
     "metadata": {},
     "output_type": "execute_result"
    }
   ],
   "source": [
    "perform_chi_square_test(covid, 'DEAD', 'HYPERTENSION')"
   ]
  },
  {
   "cell_type": "code",
   "execution_count": 90,
   "metadata": {},
   "outputs": [
    {
     "name": "stdout",
     "output_type": "stream",
     "text": [
      "Cramér's V: 0.065, Strength of Association: Very weak or no association\n"
     ]
    }
   ],
   "source": [
    "V, strength = calculate_Cramers_V(covid, 'DEAD', 'HYPERTENSION')\n",
    "print(f\"Cramér's V: {V:.3f}, Strength of Association: {strength}\")"
   ]
  },
  {
   "cell_type": "code",
   "execution_count": 91,
   "metadata": {},
   "outputs": [
    {
     "data": {
      "text/plain": [
       "<Axes: xlabel='Percentage', ylabel='HYPERTENSION'>"
      ]
     },
     "execution_count": 91,
     "metadata": {},
     "output_type": "execute_result"
    },
    {
     "data": {
      "image/png": "[encoded data removed]",
      "text/plain": [
       "<Figure size 640x480 with 1 Axes>"
      ]
     },
     "metadata": {},
     "output_type": "display_data"
    }
   ],
   "source": [
    "percentage_data = covid.groupby(\"HYPERTENSION\")['DEAD'].value_counts(normalize=True).mul(100).round(2)\n",
    "percentage_data = percentage_data.reset_index(name='Percentage')\n",
    "sns.barplot(data=percentage_data, y=\"HYPERTENSION\", x=\"Percentage\", hue=\"DEAD\", orient='h')"
   ]
  },
  {
   "cell_type": "code",
   "execution_count": 92,
   "metadata": {},
   "outputs": [
    {
     "name": "stdout",
     "output_type": "stream",
     "text": [
      "H1: The variables being analyzed are dependent (there is a significant relationship).\n",
      "p-value = 0.0000\n",
      "Chi2 = 299.85\n",
      "CARDIOVASCULAR_DISEASE    0.0   1.0\n",
      "DEAD                               \n",
      "0                       54488  4738\n",
      "1                       50059  2855\n"
     ]
    },
    {
     "data": {
      "text/html": [
       "<div>\n",
       "<style scoped>\n",
       "    .dataframe tbody tr th:only-of-type {\n",
       "        vertical-align: middle;\n",
       "    }\n",
       "\n",
       "    .dataframe tbody tr th {\n",
       "        vertical-align: top;\n",
       "    }\n",
       "\n",
       "    .dataframe thead th {\n",
       "        text-align: right;\n",
       "    }\n",
       "</style>\n",
       "<table border=\"1\" class=\"dataframe\">\n",
       "  <thead>\n",
       "    <tr style=\"text-align: right;\">\n",
       "      <th>CARDIOVASCULAR_DISEASE</th>\n",
       "      <th>0.0</th>\n",
       "      <th>1.0</th>\n",
       "    </tr>\n",
       "    <tr>\n",
       "      <th>DEAD</th>\n",
       "      <th></th>\n",
       "      <th></th>\n",
       "    </tr>\n",
       "  </thead>\n",
       "  <tbody>\n",
       "    <tr>\n",
       "      <th>0</th>\n",
       "      <td>55215.807223</td>\n",
       "      <td>4010.192777</td>\n",
       "    </tr>\n",
       "    <tr>\n",
       "      <th>1</th>\n",
       "      <td>49331.192777</td>\n",
       "      <td>3582.807223</td>\n",
       "    </tr>\n",
       "  </tbody>\n",
       "</table>\n",
       "</div>"
      ],
      "text/plain": [
       "CARDIOVASCULAR_DISEASE           0.0          1.0\n",
       "DEAD                                             \n",
       "0                       55215.807223  4010.192777\n",
       "1                       49331.192777  3582.807223"
      ]
     },
     "execution_count": 92,
     "metadata": {},
     "output_type": "execute_result"
    }
   ],
   "source": [
    "perform_chi_square_test(covid, 'DEAD', 'CARDIOVASCULAR_DISEASE')"
   ]
  },
  {
   "cell_type": "code",
   "execution_count": 93,
   "metadata": {},
   "outputs": [
    {
     "name": "stdout",
     "output_type": "stream",
     "text": [
      "Cramér's V: 0.052, Strength of Association: Very weak or no association\n"
     ]
    }
   ],
   "source": [
    "V, strength = calculate_Cramers_V(covid, 'DEAD', 'CARDIOVASCULAR_DISEASE')\n",
    "print(f\"Cramér's V: {V:.3f}, Strength of Association: {strength}\")"
   ]
  },
  {
   "cell_type": "code",
   "execution_count": 94,
   "metadata": {},
   "outputs": [
    {
     "data": {
      "text/plain": [
       "<Axes: xlabel='Percentage', ylabel='CARDIOVASCULAR_DISEASE'>"
      ]
     },
     "execution_count": 94,
     "metadata": {},
     "output_type": "execute_result"
    },
    {
     "data": {
      "image/png": "[encoded data removed]",
      "text/plain": [
       "<Figure size 640x480 with 1 Axes>"
      ]
     },
     "metadata": {},
     "output_type": "display_data"
    }
   ],
   "source": [
    "percentage_data = covid.groupby(\"CARDIOVASCULAR_DISEASE\")['DEAD'].value_counts(normalize=True).mul(100).round(2)\n",
    "percentage_data = percentage_data.reset_index(name='Percentage')\n",
    "sns.barplot(data=percentage_data, y=\"CARDIOVASCULAR_DISEASE\", x=\"Percentage\", hue=\"DEAD\", orient='h')"
   ]
  },
  {
   "cell_type": "code",
   "execution_count": 95,
   "metadata": {},
   "outputs": [
    {
     "name": "stdout",
     "output_type": "stream",
     "text": [
      "H1: The variables being analyzed are dependent (there is a significant relationship).\n",
      "p-value = 0.0000\n",
      "Chi2 = 2202.10\n",
      "ASTHMA    0.0   1.0\n",
      "DEAD               \n",
      "0       54299  4975\n",
      "1       51863  1085\n"
     ]
    },
    {
     "data": {
      "text/html": [
       "<div>\n",
       "<style scoped>\n",
       "    .dataframe tbody tr th:only-of-type {\n",
       "        vertical-align: middle;\n",
       "    }\n",
       "\n",
       "    .dataframe tbody tr th {\n",
       "        vertical-align: top;\n",
       "    }\n",
       "\n",
       "    .dataframe thead th {\n",
       "        text-align: right;\n",
       "    }\n",
       "</style>\n",
       "<table border=\"1\" class=\"dataframe\">\n",
       "  <thead>\n",
       "    <tr style=\"text-align: right;\">\n",
       "      <th>ASTHMA</th>\n",
       "      <th>0.0</th>\n",
       "      <th>1.0</th>\n",
       "    </tr>\n",
       "    <tr>\n",
       "      <th>DEAD</th>\n",
       "      <th></th>\n",
       "      <th></th>\n",
       "    </tr>\n",
       "  </thead>\n",
       "  <tbody>\n",
       "    <tr>\n",
       "      <th>0</th>\n",
       "      <td>56073.197662</td>\n",
       "      <td>3200.802338</td>\n",
       "    </tr>\n",
       "    <tr>\n",
       "      <th>1</th>\n",
       "      <td>50088.802338</td>\n",
       "      <td>2859.197662</td>\n",
       "    </tr>\n",
       "  </tbody>\n",
       "</table>\n",
       "</div>"
      ],
      "text/plain": [
       "ASTHMA           0.0          1.0\n",
       "DEAD                             \n",
       "0       56073.197662  3200.802338\n",
       "1       50088.802338  2859.197662"
      ]
     },
     "execution_count": 95,
     "metadata": {},
     "output_type": "execute_result"
    }
   ],
   "source": [
    "perform_chi_square_test(covid, 'DEAD', 'ASTHMA')"
   ]
  },
  {
   "cell_type": "code",
   "execution_count": 96,
   "metadata": {},
   "outputs": [
    {
     "name": "stdout",
     "output_type": "stream",
     "text": [
      "Cramér's V: 0.140, Strength of Association: Weak association\n"
     ]
    }
   ],
   "source": [
    "V, strength = calculate_Cramers_V(covid, 'DEAD', 'ASTHMA')\n",
    "print(f\"Cramér's V: {V:.3f}, Strength of Association: {strength}\")"
   ]
  },
  {
   "cell_type": "code",
   "execution_count": 97,
   "metadata": {},
   "outputs": [
    {
     "data": {
      "text/plain": [
       "<Axes: xlabel='Percentage', ylabel='ASTHMA'>"
      ]
     },
     "execution_count": 97,
     "metadata": {},
     "output_type": "execute_result"
    },
    {
     "data": {
      "image/png": "[encoded data removed]",
      "text/plain": [
       "<Figure size 640x480 with 1 Axes>"
      ]
     },
     "metadata": {},
     "output_type": "display_data"
    }
   ],
   "source": [
    "percentage_data = covid.groupby(\"ASTHMA\")['DEAD'].value_counts(normalize=True).mul(100).round(2)\n",
    "percentage_data = percentage_data.reset_index(name='Percentage')\n",
    "sns.barplot(data=percentage_data, y=\"ASTHMA\", x=\"Percentage\", hue=\"DEAD\", orient='h')"
   ]
  },
  {
   "cell_type": "markdown",
   "metadata": {},
   "source": [
    "### **Interpretation:**\n",
    "1. **Chronic Kidney Disease** (Mortality rates are almost the same between patients with and without this comorbidity):\n",
    "- There is no significant relationship between chronic kidney disease and mortality in this dataset.\n",
    "2. **Hypertension** (Example of a comorbidity where mortality rates are higher in affected patients):\n",
    "- Hypertension is statistically significantly associated with mortality (p < 0.05), but the strength of this relationship is very weak (Cramér’s V = 0.065).\n",
    "- This suggests that while hypertension is more common among deceased individuals, other factors likely play a much bigger role in determining mortality.\n",
    "3. **Cardiovascular Disease** (Counterintuitive result: higher mortality in patients without this comorbidity):\n",
    "- Cardiovascular disease shows a statistically significant association with mortality (p < 0.05), but the relationship strength is very weak (Cramér’s V = 0.052).\n",
    "- The counterintuitive finding—a higher mortality percentage in patients without cardiovascular disease—may be due to confounding factors (e.g., age, treatment differences, or other comorbidities) rather than a true protective effect of cardiovascular disease.\n",
    "- Therefore, the observed mortality distribution may not be meaningful without further analysis.\n",
    "4. **Asthma** (Most extreme counterintuitive result: higher mortality in patients without this comorbidity):\n",
    "- Asthma is significantly associated with mortality (p < 0.05), but the association strength remains weak (Cramér’s V = 0.140).\n",
    "- As with cardiovascular disease, the lower mortality rate in asthmatic patients (about 2.5 times lower than in non-asthmatics) may be due to confounding factors such as age, prior medical care, or asthma treatments reducing disease severity.\n",
    "5. **Gender** (Men have higher mortality rates than women):\n",
    "- There is a statistically significant association between sex and mortality (p < 0.05), with men showing higher mortality rates than women. However, the strength of this relationship is weak (Cramér’s V = 0.129).\n",
    "- This suggests that while sex influences mortality, other factors such as age, comorbidities, and access to healthcare are more influential.\n",
    "### **Summary Conclusion:**\n",
    "While some factors (e.g., hypertension, cardiovascular disease, asthma, and sex) show significant associations with mortality, their individual effect sizes are weak. This indicates that other factors—such as age, overall health status, and quality of medical care—likely play a much larger role in determining mortality.\n",
    "\n"
   ]
  }
 ],
 "metadata": {
  "kernelspec": {
   "display_name": "infoshare_virtual_env",
   "language": "python",
   "name": "python3"
  },
  "language_info": {
   "codemirror_mode": {
    "name": "ipython",
    "version": 3
   },
   "file_extension": ".py",
   "mimetype": "text/x-python",
   "name": "python",
   "nbconvert_exporter": "python",
   "pygments_lexer": "ipython3",
   "version": "3.12.1"
  }
 },
 "nbformat": 4,
 "nbformat_minor": 2
}
